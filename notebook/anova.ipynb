{
 "cells": [
  {
   "cell_type": "markdown",
   "id": "c21867e9",
   "metadata": {},
   "source": [
    "# **ANOVA**"
   ]
  },
  {
   "cell_type": "markdown",
   "id": "4d1c7990",
   "metadata": {},
   "source": [
    "## **Penjelasan ANOVA**"
   ]
  },
  {
   "cell_type": "markdown",
   "id": "dcd2918e",
   "metadata": {},
   "source": [
    "**ANOVA** (Analysis of Variance) adalah metode statistik untuk menguji apakah terdapat perbedaan yang signifikan antara rata-rata dua atau lebih kelompok. ANOVA membandingkan variansi antar-kelompok dengan variansi dalam-kelompok.\n",
    "\n",
    "**Hipotesis dalam ANOVA:**\n",
    "- H0 (hipotesis nol): Semua rata-rata populasi adalah sama\n",
    "- H1 (hipotesis alternatif): Setidaknya ada satu rata-rata populasi yang berbeda\n",
    "\n",
    "**Asumsi dasar ANOVA:**\n",
    "- Data tiap kelompok berdistribusi normal\n",
    "- Homogenitas variansi (varian sama di tiap kelompok)\n",
    "- Observasi independen satu sama lain"
   ]
  },
  {
   "cell_type": "markdown",
   "id": "a948a902",
   "metadata": {},
   "source": [
    "## **ANOVA Satu Arah** "
   ]
  },
  {
   "cell_type": "markdown",
   "id": "8b266fe4",
   "metadata": {},
   "source": [
    "**ANOVA satu arah** digunakan ketika kita ingin menguji pengaruh satu faktor kategorikal terhadap sebuah variabel numerik."
   ]
  },
  {
   "cell_type": "markdown",
   "id": "365e204c",
   "metadata": {},
   "source": [
    "**Contoh**\n",
    "\n",
    "Apakah jenis metode belajar memengaruhi nilai ujian siswa?"
   ]
  },
  {
   "cell_type": "code",
   "execution_count": null,
   "id": "a6d9e0c1",
   "metadata": {},
   "outputs": [
    {
     "data": {
      "image/png": "[encoded data removed]",
      "text/plain": [
       "<Figure size 640x480 with 1 Axes>"
      ]
     },
     "metadata": {},
     "output_type": "display_data"
    },
    {
     "name": "stdout",
     "output_type": "stream",
     "text": [
      "Statistik Deskriptif:\n",
      "             count       mean       std   min   25%   50%   75%   max\n",
      "metode                                                              \n",
      "Mandiri     333.0  64.108108  1.511112  60.0  63.0  64.0  65.0  68.0\n",
      "Online      334.0  71.062874  1.954190  65.0  70.0  71.0  72.0  79.0\n",
      "Tatap Muka  333.0  84.957958  1.514400  81.0  84.0  85.0  86.0  90.0\n",
      "\n",
      "Uji ANOVA:\n",
      "                sum_sq     df             F  PR(>F)\n",
      "C(metode)  75058.92484    2.0  13405.304274     0.0\n",
      "Residual    2791.19916  997.0           NaN     NaN\n"
     ]
    }
   ],
   "source": [
    "import pandas as pd\n",
    "import numpy as np\n",
    "import matplotlib.pyplot as plt\n",
    "import seaborn as sns\n",
    "from scipy import stats\n",
    "import statsmodels.api as sm\n",
    "from statsmodels.formula.api import ols\n",
    "\n",
    "data_1a = pd.read_csv(\"../datasets/satu_arah.csv\")\n",
    "\n",
    "sns.boxplot(x=\"metode\", y=\"nilai\", data=data_1a)\n",
    "plt.title(\"Distribusi Nilai per Metode Belajar\")\n",
    "plt.show()\n",
    "\n",
    "# Statistik Deskriptif\n",
    "print(\"Statistik Deskriptif:\\n\", data_1a.groupby('metode')['nilai'].describe())\n",
    "\n",
    "print(\"\\nUji ANOVA:\")\n",
    "model_1a = ols('nilai ~ C(metode)', data=data_1a).fit()\n",
    "anova_1a = sm.stats.anova_lm(model_1a, typ=2)\n",
    "print(anova_1a)"
   ]
  },
  {
   "cell_type": "markdown",
   "id": "bf7567d9",
   "metadata": {},
   "source": [
    "**Interpretasi:**\n",
    "- Nilai F-statistik yang sangat tinggi (13,405.30) menunjukkan bahwa variasi antar kelompok jauh lebih besar dibanding variasi dalam kelompok.\n",
    "- p-value = 0.0 (lebih kecil dari α = 0.05) berarti kita menolak hipotesis nol (H₀).\n",
    "  \n",
    "Terdapat perbedaan yang signifikan antara rata-rata nilai pada ketiga metode belajar (Mandiri, Online, Tatap Muka). Artinya, metode belajar memang memiliki pengaruh nyata terhadap performa nilai siswa."
   ]
  }
 ],
 "metadata": {
  "kernelspec": {
   "display_name": "Python 3",
   "language": "python",
   "name": "python3"
  },
  "language_info": {
   "codemirror_mode": {
    "name": "ipython",
    "version": 3
   },
   "file_extension": ".py",
   "mimetype": "text/x-python",
   "name": "python",
   "nbconvert_exporter": "python",
   "pygments_lexer": "ipython3",
   "version": "3.11.13"
  }
 },
 "nbformat": 4,
 "nbformat_minor": 5
}
